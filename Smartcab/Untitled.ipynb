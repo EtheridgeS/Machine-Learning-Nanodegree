{
 "cells": [
  {
   "cell_type": "code",
   "execution_count": 1,
   "metadata": {},
   "outputs": [
    {
     "name": "stdout",
     "output_type": "stream",
     "text": [
      "['', 'C:\\\\Users\\\\scott\\\\Anaconda2\\\\python27.zip', 'C:\\\\Users\\\\scott\\\\Anaconda2\\\\DLLs', 'C:\\\\Users\\\\scott\\\\Anaconda2\\\\lib', 'C:\\\\Users\\\\scott\\\\Anaconda2\\\\lib\\\\plat-win', 'C:\\\\Users\\\\scott\\\\Anaconda2\\\\lib\\\\lib-tk', 'C:\\\\Users\\\\scott\\\\Anaconda2', 'C:\\\\Users\\\\scott\\\\Anaconda2\\\\lib\\\\site-packages', 'C:\\\\Users\\\\scott\\\\Anaconda2\\\\lib\\\\site-packages\\\\Sphinx-1.5.6-py2.7.egg', 'C:\\\\Users\\\\scott\\\\Anaconda2\\\\lib\\\\site-packages\\\\win32', 'C:\\\\Users\\\\scott\\\\Anaconda2\\\\lib\\\\site-packages\\\\win32\\\\lib', 'C:\\\\Users\\\\scott\\\\Anaconda2\\\\lib\\\\site-packages\\\\Pythonwin', 'C:\\\\Users\\\\scott\\\\Anaconda2\\\\lib\\\\site-packages\\\\setuptools-27.2.0-py2.7.egg', 'C:\\\\Users\\\\scott\\\\Anaconda2\\\\lib\\\\site-packages\\\\IPython\\\\extensions', 'C:\\\\Users\\\\scott\\\\.ipython']\n"
     ]
    }
   ],
   "source": [
    "import sys; print sys.path"
   ]
  },
  {
   "cell_type": "code",
   "execution_count": 2,
   "metadata": {},
   "outputs": [
    {
     "ename": "SyntaxError",
     "evalue": "invalid syntax (<ipython-input-2-de159e9d57b1>, line 1)",
     "output_type": "error",
     "traceback": [
      "\u001b[1;36m  File \u001b[1;32m\"<ipython-input-2-de159e9d57b1>\"\u001b[1;36m, line \u001b[1;32m1\u001b[0m\n\u001b[1;33m    python -m pygame.examples.alien\u001b[0m\n\u001b[1;37m                   ^\u001b[0m\n\u001b[1;31mSyntaxError\u001b[0m\u001b[1;31m:\u001b[0m invalid syntax\n"
     ]
    }
   ],
   "source": [
    "python -m pygame.examples.alien"
   ]
  },
  {
   "cell_type": "code",
   "execution_count": 3,
   "metadata": {},
   "outputs": [
    {
     "ename": "SyntaxError",
     "evalue": "invalid syntax (<ipython-input-3-bbf101796857>, line 1)",
     "output_type": "error",
     "traceback": [
      "\u001b[1;36m  File \u001b[1;32m\"<ipython-input-3-bbf101796857>\"\u001b[1;36m, line \u001b[1;32m1\u001b[0m\n\u001b[1;33m    python smartcab/agent.py\u001b[0m\n\u001b[1;37m                  ^\u001b[0m\n\u001b[1;31mSyntaxError\u001b[0m\u001b[1;31m:\u001b[0m invalid syntax\n"
     ]
    }
   ],
   "source": [
    "python smartcab/agent.py"
   ]
  },
  {
   "cell_type": "code",
   "execution_count": null,
   "metadata": {
    "collapsed": true
   },
   "outputs": [],
   "source": []
  }
 ],
 "metadata": {
  "kernelspec": {
   "display_name": "Python 2",
   "language": "python",
   "name": "python2"
  },
  "language_info": {
   "codemirror_mode": {
    "name": "ipython",
    "version": 2
   },
   "file_extension": ".py",
   "mimetype": "text/x-python",
   "name": "python",
   "nbconvert_exporter": "python",
   "pygments_lexer": "ipython2",
   "version": "2.7.13"
  }
 },
 "nbformat": 4,
 "nbformat_minor": 2
}
